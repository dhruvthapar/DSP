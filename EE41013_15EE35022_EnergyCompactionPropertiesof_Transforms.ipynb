{
  "nbformat": 4,
  "nbformat_minor": 0,
  "metadata": {
    "colab": {
      "name": "EE41013_15EE35022_EnergyCompactionPropertiesof Transforms.ipynb",
      "version": "0.3.2",
      "provenance": []
    },
    "kernelspec": {
      "name": "python3",
      "display_name": "Python 3"
    }
  },
  "cells": [
    {
      "metadata": {
        "id": "9Bqw2j1-tZ_d",
        "colab_type": "code",
        "colab": {}
      },
      "cell_type": "code",
      "source": [
        "import numpy as np\n",
        "import pandas as pd\n",
        "import cmath\n",
        "import math\n",
        "import random"
      ],
      "execution_count": 0,
      "outputs": []
    },
    {
      "metadata": {
        "id": "_wA9lCNBNfjF",
        "colab_type": "code",
        "colab": {}
      },
      "cell_type": "code",
      "source": [
        "N = 64\n",
        "z=[]\n",
        "for i in range(N):\n",
        "    z.append(random.uniform(0, 100))"
      ],
      "execution_count": 0,
      "outputs": []
    },
    {
      "metadata": {
        "id": "iuZ9vDBEOCUa",
        "colab_type": "code",
        "colab": {}
      },
      "cell_type": "code",
      "source": [
        "#DCT\n",
        "\n",
        "def dct(z,N):\n",
        "  # x=[8,16,24,32,40,48,56,64]\n",
        "  # print(x)\n",
        "  # W=complex(math.cos(2*math.pi/2*N), -math.sin(2*math.pi/2*N))\n",
        "  Z=[0]*(N)\n",
        "  for k in range(N):\n",
        "    for i in range(N):\n",
        "      Z[k] = Z[k] + 2*z[i]*math.cos(math.pi*k*(2*i+1)/(2*N))\n",
        "  print(Z)\n",
        "  return Z"
      ],
      "execution_count": 0,
      "outputs": []
    },
    {
      "metadata": {
        "id": "FzhUfIefOr-b",
        "colab_type": "code",
        "colab": {
          "base_uri": "https://localhost:8080/",
          "height": 54
        },
        "outputId": "3fa0a989-4605-4bdb-9888-1f82099ffd42"
      },
      "cell_type": "code",
      "source": [
        "Z_dct=dct(z,N)\n",
        "def idct(y,N):\n",
        "  X=[0]*N\n",
        " # y = [576.0, -206.15433672656437, -4.263256414560601e-14, -21.550553628926068, 0.0, -6.428892919551728, -8.526512829121202e-14, -1.622474328308769]\n",
        "  for n in range(N):\n",
        "    for k in range(N):\n",
        "      if(k == 0):\n",
        "        X[n]=X[n] + (1/2)*y[k]*math.cos(math.pi * k * (2*n + 1)/ (2*N))\n",
        "      else:\n",
        "        X[n]=X[n]+ y[k]*math.cos(math.pi * k * (2*n + 1)/ (2*N))\n",
        "    X[n] = (1/N) * X[n]\n",
        "  return X\n"
      ],
      "execution_count": 183,
      "outputs": [
        {
          "output_type": "stream",
          "text": [
            "[7353.706059817953, 261.3567854927049, 179.23292662826316, 277.8551357894628, -243.19862265381835, 665.5719379222261, -276.00914393472135, -294.93142253406637, -142.98066876421228, -302.81340345641615, -295.6764084138435, 293.2084283162401, -61.37045653350547, -383.7686274288113, -2.0321545878401466, -373.1913792208492, -327.6671961194588, 348.57772043059276, -278.92561117349334, 173.25137163700023, -154.8547022489883, 421.43288701748753, -613.8006877959144, -164.22390462322107, 29.566296689384146, -509.9741347834795, -393.79974914480704, -152.00495894292612, 41.542372732048904, 16.055409085886687, 181.59661272101908, -178.92623637909668, -183.94110055363817, -264.11217533934996, -5.999484198446453, -58.012404137547925, -310.41000852660767, -258.52566051321884, -488.05620219451936, 313.4126946492854, 895.3640103742206, -102.67627708980805, -272.28131855061514, -414.1509873921459, -31.056909204343388, -260.57535175804964, -346.57486293546566, -172.28567434308934, -133.90262947254905, -83.19122312910288, 31.967317003666267, -190.69372236517927, 132.66012073271764, 31.81416584097953, 426.30044269963986, 287.9395757080369, -265.5008738328245, -271.91974460527115, 91.16525796021251, -146.56795500214827, 75.63866129026732, -437.3438353134366, -146.17585120907535, -53.91131089000982]\n"
          ],
          "name": "stdout"
        }
      ]
    },
    {
      "metadata": {
        "id": "U0lB8DVxPtdV",
        "colab_type": "code",
        "colab": {}
      },
      "cell_type": "code",
      "source": [
        "def modified(Z_dct,N):\n",
        "  L=[i for i in range(64)]\n",
        "  x = []\n",
        "  for l in L:\n",
        "    Xm=[0]*N\n",
        "    for k in range(N-l):\n",
        "      Xm[k]=Z_dct[k]\n",
        "    x.append(Xm)\n",
        "  return x"
      ],
      "execution_count": 0,
      "outputs": []
    },
    {
      "metadata": {
        "id": "39oFdbNRT2G7",
        "colab_type": "code",
        "colab": {}
      },
      "cell_type": "code",
      "source": [
        "c=modified(Z_dct,64)\n",
        "c_out = []\n",
        "for j in range(64):\n",
        "  c_out.append(idct(c[j],64))"
      ],
      "execution_count": 0,
      "outputs": []
    },
    {
      "metadata": {
        "id": "7bx31XfK2TuT",
        "colab_type": "code",
        "colab": {}
      },
      "cell_type": "code",
      "source": [
        "e1 = []\n",
        "for i in range (64):\n",
        "  e1.append((np.sum(abs(np.array(z)-np.array(c_out[i]))**2)) / 64)\n",
        "  "
      ],
      "execution_count": 0,
      "outputs": []
    },
    {
      "metadata": {
        "id": "xuqpHE7QD4d8",
        "colab_type": "code",
        "colab": {}
      },
      "cell_type": "code",
      "source": [
        "#DFT\n",
        "\n",
        "def dft(x,N):\n",
        "  W = complex(math.cos(2*math.pi/N), -math.sin(2*math.pi/N))\n",
        "  W_matrix = np.ndarray(shape=(N,N), dtype=np.complex128)\n",
        "  for i in range(N):\n",
        "    for j in range(N):\n",
        "      W_matrix[i][j] = (W**(i*j))\n",
        "  x = np.matrix(x)\n",
        "  return np.array(W_matrix.dot(x.T))[:,0]"
      ],
      "execution_count": 0,
      "outputs": []
    },
    {
      "metadata": {
        "id": "mucuFFXzFt6Y",
        "colab_type": "code",
        "colab": {}
      },
      "cell_type": "code",
      "source": [
        "Z_dft= dft(z,N)"
      ],
      "execution_count": 0,
      "outputs": []
    },
    {
      "metadata": {
        "id": "1MdcmPWZGO-t",
        "colab_type": "code",
        "colab": {}
      },
      "cell_type": "code",
      "source": [
        "def idft(x,N):\n",
        "  W = complex(math.cos(2*math.pi/N), -math.sin(2*math.pi/N))\n",
        "  W_matrix = np.ndarray(shape=(N,N), dtype=np.complex128)\n",
        "  for i in range(N):\n",
        "    for j in range(N):\n",
        "      W_matrix[i][j] = 1/(W**(i*j))\n",
        "  x = np.matrix(x)\n",
        "  return (1/N)*np.array(W_matrix.dot(x.T))[:,0]"
      ],
      "execution_count": 0,
      "outputs": []
    },
    {
      "metadata": {
        "id": "uc55Xd4VQ9DY",
        "colab_type": "code",
        "colab": {}
      },
      "cell_type": "code",
      "source": [
        "def modified(Z_dft,N):\n",
        "  L=[i for i in range(64)]\n",
        "  x = []\n",
        "  for l in L:\n",
        "    Xm=[0]*N\n",
        "    for k in range(int((N-l-1)/2)+1):\n",
        "      Xm[k]=Z_dft[k]\n",
        "    for k in range(int((N+l+1)/2)+1,N):\n",
        "      Xm[k]=Z_dft[k]\n",
        "    x.append(Xm)\n",
        "  return x"
      ],
      "execution_count": 0,
      "outputs": []
    },
    {
      "metadata": {
        "id": "DETLcLKFRXyW",
        "colab_type": "code",
        "colab": {}
      },
      "cell_type": "code",
      "source": [
        "c1=modified(Z_dft,64)\n",
        "c_out1 = []\n",
        "for j in range(64):\n",
        "  c_out1.append(idft(c1[j],64))"
      ],
      "execution_count": 0,
      "outputs": []
    },
    {
      "metadata": {
        "id": "zdEV3nS0Rip7",
        "colab_type": "code",
        "colab": {}
      },
      "cell_type": "code",
      "source": [
        "e2 = []\n",
        "for i in range (64):\n",
        "  e2.append((np.sum(abs(np.array(z)-np.array(c_out1[i]))**2)) / 64)"
      ],
      "execution_count": 0,
      "outputs": []
    },
    {
      "metadata": {
        "id": "IRhIT5zDR_EF",
        "colab_type": "code",
        "colab": {}
      },
      "cell_type": "code",
      "source": [
        "#HAAR\n",
        "\n",
        "h2 = np.array([[1,1],[1,-1]])/math.sqrt(2)\n",
        "def haar_mat(n):\n",
        "  n = int(n)\n",
        "  if n == 1:\n",
        "    return h2\n",
        "  else:\n",
        "    a = np.kron(haar_mat(n-1),[1,1])\n",
        "    b = np.kron(np.identity(int(math.pow(2,n-1)))*math.pow(2,(n-1)/2.0),[1,-1])\n",
        "    #print(np.concatenate((a,b),axis=0))\n",
        "    return np.concatenate((a,b),axis=0)/math.sqrt(2)\n",
        "def haar(x):\n",
        "    return np.matmul(haar_mat(math.log(len(x),2)),np.transpose(x))"
      ],
      "execution_count": 0,
      "outputs": []
    },
    {
      "metadata": {
        "id": "vhtAaUYA8Z0f",
        "colab_type": "code",
        "colab": {}
      },
      "cell_type": "code",
      "source": [
        "def inverse_haar(y):\n",
        "  n = int(math.log(len(y),2))\n",
        "  N = len(y)\n",
        "  hn = haar_mat(n)\n",
        "  return np.matmul(np.transpose(hn)/N,np.transpose(y))"
      ],
      "execution_count": 0,
      "outputs": []
    },
    {
      "metadata": {
        "id": "gsl4yfFW9Fdz",
        "colab_type": "code",
        "colab": {}
      },
      "cell_type": "code",
      "source": [
        "def modified_haar(x, N):\n",
        "  L=[i for i in range(64)]\n",
        "  x_mod = []\n",
        "  for l in L:\n",
        "    y = [0]*N\n",
        "    for i in range(N-l):\n",
        "      y[i] = x[i]\n",
        "    x_mod.append(y)\n",
        "  return x_mod\n"
      ],
      "execution_count": 0,
      "outputs": []
    },
    {
      "metadata": {
        "id": "bcsvyclO9TvU",
        "colab_type": "code",
        "colab": {}
      },
      "cell_type": "code",
      "source": [
        "x = np.array(z)\n",
        "z_haar = haar(x)\n",
        "mod_haar = modified_haar(z_haar,N)\n",
        "mod_ihaar = []\n",
        "for j in range(N):\n",
        "  mod_ihaar.append(inverse_haar(mod_haar[j]))"
      ],
      "execution_count": 0,
      "outputs": []
    },
    {
      "metadata": {
        "id": "pzm6n_NR-fFR",
        "colab_type": "code",
        "colab": {}
      },
      "cell_type": "code",
      "source": [
        "e_haar = []\n",
        "for i in range(N):\n",
        "  e_haar.append((np.sum(abs(x-np.array(mod_ihaar[i]))**2)) / N)"
      ],
      "execution_count": 0,
      "outputs": []
    },
    {
      "metadata": {
        "id": "zOKOGdV1-_g5",
        "colab_type": "code",
        "colab": {
          "base_uri": "https://localhost:8080/",
          "height": 347
        },
        "outputId": "5da4dc37-a2d4-49b2-b630-e71f54018dcf"
      },
      "cell_type": "code",
      "source": [
        "import matplotlib.pyplot as plt\n",
        "plt.plot(e1,'g',label = \"DCT\")\n",
        "plt.plot(e2,'b',label = \"DFT\")\n",
        "plt.plot(e_haar,'r',label = \"Haar\")\n",
        "plt.legend(loc='upper left')  \n",
        "plt.show()"
      ],
      "execution_count": 200,
      "outputs": [
        {
          "output_type": "display_data",
          "data": {
            "image/png": "[encoded data removed]",
            "text/plain": [
              "<matplotlib.figure.Figure at 0x7fe098733080>"
            ]
          },
          "metadata": {
            "tags": []
          }
        }
      ]
    },
    {
      "metadata": {
        "id": "BNzlCMgW_JOk",
        "colab_type": "code",
        "colab": {}
      },
      "cell_type": "code",
      "source": [
        "\n"
      ],
      "execution_count": 0,
      "outputs": []
    },
    {
      "metadata": {
        "id": "MPKlr1XQ_O0y",
        "colab_type": "code",
        "colab": {}
      },
      "cell_type": "code",
      "source": [
        ""
      ],
      "execution_count": 0,
      "outputs": []
    }
  ]
}