{
  "nbformat": 4,
  "nbformat_minor": 0,
  "metadata": {
    "colab": {
      "name": "EE41013_15EE35022_EnergyCompactionPropertiesofTransforms.ipynb",
      "version": "0.3.2",
      "provenance": []
    },
    "kernelspec": {
      "name": "python3",
      "display_name": "Python 3"
    }
  },
  "cells": [
    {
      "metadata": {
        "id": "9Bqw2j1-tZ_d",
        "colab_type": "code",
        "colab": {}
      },
      "cell_type": "code",
      "source": [
        "import numpy as np\n",
        "import pandas as pd\n",
        "import cmath\n",
        "import math\n",
        "import random"
      ],
      "execution_count": 0,
      "outputs": []
    },
    {
      "metadata": {
        "id": "_wA9lCNBNfjF",
        "colab_type": "code",
        "colab": {}
      },
      "cell_type": "code",
      "source": [
        "N = 64\n",
        "z=[]\n",
        "for i in range(N):\n",
        "    z.append(random.uniform(0, 100))"
      ],
      "execution_count": 0,
      "outputs": []
    },
    {
      "metadata": {
        "id": "iuZ9vDBEOCUa",
        "colab_type": "code",
        "colab": {}
      },
      "cell_type": "code",
      "source": [
        "#DCT\n",
        "\n",
        "def dct(z,N):\n",
        "  # x=[8,16,24,32,40,48,56,64]\n",
        "  # print(x)\n",
        "  # W=complex(math.cos(2*math.pi/2*N), -math.sin(2*math.pi/2*N))\n",
        "  Z=[0]*(N)\n",
        "  for k in range(N):\n",
        "    for i in range(N):\n",
        "      Z[k] = Z[k] + 2*z[i]*math.cos(math.pi*k*(2*i+1)/(2*N))\n",
        "  print(Z)\n",
        "  return Z"
      ],
      "execution_count": 0,
      "outputs": []
    },
    {
      "metadata": {
        "id": "FzhUfIefOr-b",
        "colab_type": "code",
        "colab": {
          "base_uri": "https://localhost:8080/",
          "height": 54
        },
        "outputId": "958c2211-397f-49c4-91e1-743de3f8f264"
      },
      "cell_type": "code",
      "source": [
        "Z_dct=dct(z,N)\n",
        "def idct(y,N):\n",
        "  X=[0]*N\n",
        " # y = [576.0, -206.15433672656437, -4.263256414560601e-14, -21.550553628926068, 0.0, -6.428892919551728, -8.526512829121202e-14, -1.622474328308769]\n",
        "  for n in range(N):\n",
        "    for k in range(N):\n",
        "      if(k == 0):\n",
        "        X[n]=X[n] + (1/2)*y[k]*math.cos(math.pi * k * (2*n + 1)/ (2*N))\n",
        "      else:\n",
        "        X[n]=X[n]+ y[k]*math.cos(math.pi * k * (2*n + 1)/ (2*N))\n",
        "    X[n] = (1/N) * X[n]\n",
        "  return X\n"
      ],
      "execution_count": 4,
      "outputs": [
        {
          "output_type": "stream",
          "text": [
            "[6289.7857553562035, -199.0329395492847, 332.06348914479076, -91.15224176620994, -96.71436539945745, 55.82806762271274, 102.57272760377055, -506.5429350867115, -93.92936635336619, 235.3060212992362, 224.25966284833757, 346.10492180682036, 345.35074799016587, 15.256966297512385, 13.3762114803422, -225.2222281021576, -138.06739271206175, 830.15311316065, -272.446859958718, -140.80525356243638, 89.73947560282268, 419.68789646044263, 689.4792362407534, 341.09192581961315, 382.80694785397486, 46.15046574900262, -5.942964477219753, -9.384435016624181, -446.6283110646352, 262.7322724749756, 346.21690753182924, 355.2581829435638, -362.9065700161682, -425.6773220646794, -100.48251738000391, 420.6004269010902, 299.29998791471905, 738.4516322083907, -293.8830782565142, 54.03531566457589, 426.6417329044086, -489.0756083300479, 324.64221677753, -334.781524536145, -629.9313321751226, 385.64760370562874, 132.74478862295976, -154.412288358467, -419.01423393792766, 261.845285537125, -728.0849829898008, 96.25625180556673, -458.7549747900955, -260.5979186964446, 151.52044276539272, 47.915167824540234, -96.5015277883569, 337.2659715150624, 331.6563155607469, 587.7202155958003, -196.2928819240506, -177.20249678738014, -424.04567694585944, 42.59096825169126]\n"
          ],
          "name": "stdout"
        }
      ]
    },
    {
      "metadata": {
        "id": "U0lB8DVxPtdV",
        "colab_type": "code",
        "colab": {}
      },
      "cell_type": "code",
      "source": [
        "def modified(Z_dct,N):\n",
        "  L=[i for i in range(64)]\n",
        "  x = []\n",
        "  for l in L:\n",
        "    Xm=[0]*N\n",
        "    for k in range(N-l):\n",
        "      Xm[k]=Z_dct[k]\n",
        "    x.append(Xm)\n",
        "  return x"
      ],
      "execution_count": 0,
      "outputs": []
    },
    {
      "metadata": {
        "id": "39oFdbNRT2G7",
        "colab_type": "code",
        "colab": {}
      },
      "cell_type": "code",
      "source": [
        "c=modified(Z_dct,64)\n",
        "c_out = []\n",
        "for j in range(64):\n",
        "  c_out.append(idct(c[j],64))"
      ],
      "execution_count": 0,
      "outputs": []
    },
    {
      "metadata": {
        "id": "7bx31XfK2TuT",
        "colab_type": "code",
        "colab": {}
      },
      "cell_type": "code",
      "source": [
        "e1 = []\n",
        "for i in range (64):\n",
        "  e1.append((np.sum(abs(np.array(z)-np.array(c_out[i]))**2)) / 64)\n",
        "  "
      ],
      "execution_count": 0,
      "outputs": []
    },
    {
      "metadata": {
        "id": "xuqpHE7QD4d8",
        "colab_type": "code",
        "colab": {}
      },
      "cell_type": "code",
      "source": [
        "#DFT\n",
        "\n",
        "def dft(x,N):\n",
        "  W = complex(math.cos(2*math.pi/N), -math.sin(2*math.pi/N))\n",
        "  W_matrix = np.ndarray(shape=(N,N), dtype=np.complex128)\n",
        "  for i in range(N):\n",
        "    for j in range(N):\n",
        "      W_matrix[i][j] = (W**(i*j))\n",
        "  x = np.matrix(x)\n",
        "  return np.array(W_matrix.dot(x.T))[:,0]"
      ],
      "execution_count": 0,
      "outputs": []
    },
    {
      "metadata": {
        "id": "mucuFFXzFt6Y",
        "colab_type": "code",
        "colab": {}
      },
      "cell_type": "code",
      "source": [
        "Z_dft= dft(z,N)"
      ],
      "execution_count": 0,
      "outputs": []
    },
    {
      "metadata": {
        "id": "1MdcmPWZGO-t",
        "colab_type": "code",
        "colab": {}
      },
      "cell_type": "code",
      "source": [
        "def idft(x,N):\n",
        "  W = complex(math.cos(2*math.pi/N), -math.sin(2*math.pi/N))\n",
        "  W_matrix = np.ndarray(shape=(N,N), dtype=np.complex128)\n",
        "  for i in range(N):\n",
        "    for j in range(N):\n",
        "      W_matrix[i][j] = 1/(W**(i*j))\n",
        "  x = np.matrix(x)\n",
        "  return (1/N)*np.array(W_matrix.dot(x.T))[:,0]"
      ],
      "execution_count": 0,
      "outputs": []
    },
    {
      "metadata": {
        "id": "uc55Xd4VQ9DY",
        "colab_type": "code",
        "colab": {}
      },
      "cell_type": "code",
      "source": [
        "def modified(Z_dft,N):\n",
        "  L=[i for i in range(64)]\n",
        "  x = []\n",
        "  for l in L:\n",
        "    Xm=[0]*N\n",
        "    for k in range(int((N-l-1)/2)+1):\n",
        "      Xm[k]=Z_dft[k]\n",
        "    for k in range(int((N+l+1)/2)+1,N):\n",
        "      Xm[k]=Z_dft[k]\n",
        "    x.append(Xm)\n",
        "  return x"
      ],
      "execution_count": 0,
      "outputs": []
    },
    {
      "metadata": {
        "id": "DETLcLKFRXyW",
        "colab_type": "code",
        "colab": {}
      },
      "cell_type": "code",
      "source": [
        "c1=modified(Z_dft,64)\n",
        "c_out1 = []\n",
        "for j in range(64):\n",
        "  c_out1.append(idft(c1[j],64))"
      ],
      "execution_count": 0,
      "outputs": []
    },
    {
      "metadata": {
        "id": "zdEV3nS0Rip7",
        "colab_type": "code",
        "colab": {}
      },
      "cell_type": "code",
      "source": [
        "e2 = []\n",
        "for i in range (64):\n",
        "  e2.append((np.sum(abs(np.array(z)-np.array(c_out1[i]))**2)) / 64)"
      ],
      "execution_count": 0,
      "outputs": []
    },
    {
      "metadata": {
        "id": "IRhIT5zDR_EF",
        "colab_type": "code",
        "colab": {}
      },
      "cell_type": "code",
      "source": [
        "#HAAR\n",
        "\n",
        "h2 = np.array([[1,1],[1,-1]])\n",
        "def haar_mat(n):\n",
        "  n = int(n)\n",
        "  if n == 1:\n",
        "    return h2\n",
        "  else:\n",
        "    a = np.kron(haar_mat(n-1),[1,1])\n",
        "    b = np.kron(np.identity(int(math.pow(2,n-1)))*math.pow(2,(n-1)/2.0),[1,-1])\n",
        "    return np.concatenate((a,b),axis=0)\n",
        "def haar(x):\n",
        "    return np.matmul(haar_mat(math.log(len(x),2)),np.transpose(x))"
      ],
      "execution_count": 0,
      "outputs": []
    },
    {
      "metadata": {
        "id": "vhtAaUYA8Z0f",
        "colab_type": "code",
        "colab": {}
      },
      "cell_type": "code",
      "source": [
        "def inverse_haar(y):\n",
        "  n = int(math.log(len(y),2))\n",
        "  N = len(y)\n",
        "  hn = haar_mat(n)\n",
        "  return np.matmul(np.transpose(hn)/N,np.transpose(y))"
      ],
      "execution_count": 0,
      "outputs": []
    },
    {
      "metadata": {
        "id": "gsl4yfFW9Fdz",
        "colab_type": "code",
        "colab": {}
      },
      "cell_type": "code",
      "source": [
        "def modified_haar(x, N):\n",
        "  L=[i for i in range(64)]\n",
        "  x_mod = []\n",
        "  for l in L:\n",
        "    y = [0]*N\n",
        "    for i in range(N-l):\n",
        "      y[i] = x[i]\n",
        "    x_mod.append(y)\n",
        "  return x_mod"
      ],
      "execution_count": 0,
      "outputs": []
    },
    {
      "metadata": {
        "id": "bcsvyclO9TvU",
        "colab_type": "code",
        "colab": {}
      },
      "cell_type": "code",
      "source": [
        "x = np.array(z)\n",
        "z_haar = haar(x)\n",
        "mod_haar = modified_haar(z_haar,N)\n",
        "mod_ihaar = []\n",
        "for j in range(N):\n",
        "  mod_ihaar.append(inverse_haar(mod_haar[j]))"
      ],
      "execution_count": 0,
      "outputs": []
    },
    {
      "metadata": {
        "id": "pzm6n_NR-fFR",
        "colab_type": "code",
        "colab": {}
      },
      "cell_type": "code",
      "source": [
        "e_haar = []\n",
        "for i in range(N):\n",
        "  e_haar.append((np.sum(abs(x-np.array(mod_ihaar[i]))**2)) / N)"
      ],
      "execution_count": 0,
      "outputs": []
    },
    {
      "metadata": {
        "id": "zOKOGdV1-_g5",
        "colab_type": "code",
        "colab": {
          "base_uri": "https://localhost:8080/",
          "height": 347
        },
        "outputId": "2cbd9c8d-46fd-4a6b-d6ab-6d14aa7a6437"
      },
      "cell_type": "code",
      "source": [
        "import matplotlib.pyplot as plt\n",
        "plt.plot(e1,'g',label = \"DCT\")\n",
        "plt.plot(e2,'b',label = \"DFT\")\n",
        "plt.plot(e_haar,'r',label = \"Haar\")\n",
        "plt.legend(loc='upper left')  \n",
        "plt.show()"
      ],
      "execution_count": 19,
      "outputs": [
        {
          "output_type": "display_data",
          "data": {
            "image/png": "[encoded data removed]",
            "text/plain": [
              "<matplotlib.figure.Figure at 0x7f629c724550>"
            ]
          },
          "metadata": {
            "tags": []
          }
        }
      ]
    },
    {
      "metadata": {
        "id": "2BZ7VZlcn1YY",
        "colab_type": "code",
        "colab": {}
      },
      "cell_type": "code",
      "source": [
        ""
      ],
      "execution_count": 0,
      "outputs": []
    }
  ]
}